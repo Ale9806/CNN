{
 "cells": [
  {
   "cell_type": "code",
   "execution_count": 28,
   "metadata": {},
   "outputs": [
    {
     "name": "stdout",
     "output_type": "stream",
     "text": [
      "The autoreload extension is already loaded. To reload it, use:\n",
      "  %reload_ext autoreload\n"
     ]
    }
   ],
   "source": [
    "import time\n",
    "import numpy as np\n",
    "import h5py\n",
    "import matplotlib.pyplot as plt\n",
    "import scipy\n",
    "from PIL import Image\n",
    "from scipy import ndimage\n",
    "from dnn_app_utils_v3 import *\n",
    "\n",
    "%matplotlib inline\n",
    "plt.rcParams['figure.figsize'] = (5.0, 4.0) # set default size of plots\n",
    "plt.rcParams['image.interpolation'] = 'nearest'\n",
    "plt.rcParams['image.cmap'] = 'gray'\n",
    "\n",
    "%load_ext autoreload\n",
    "%autoreload 2\n",
    "\n",
    "np.random.seed(1)"
   ]
  },
  {
   "cell_type": "code",
   "execution_count": 29,
   "metadata": {},
   "outputs": [],
   "source": [
    "train_x_orig, train_y, test_x_orig, test_y, classes = load_data()"
   ]
  },
  {
   "cell_type": "code",
   "execution_count": 30,
   "metadata": {},
   "outputs": [
    {
     "name": "stdout",
     "output_type": "stream",
     "text": [
      "y = 0. It's a non-cat picture.\n"
     ]
    },
    {
     "data": {
      "image/png": "[encoded data removed]",
      "text/plain": [
       "<Figure size 360x288 with 1 Axes>"
      ]
     },
     "metadata": {
      "needs_background": "light"
     },
     "output_type": "display_data"
    }
   ],
   "source": [
    "# Example of a picture\n",
    "index = 10\n",
    "plt.imshow(train_x_orig[index])\n",
    "print (\"y = \" + str(train_y[0,index]) + \". It's a \" + classes[train_y[0,index]].decode(\"utf-8\") +  \" picture.\")"
   ]
  },
  {
   "cell_type": "code",
   "execution_count": 31,
   "metadata": {},
   "outputs": [
    {
     "name": "stdout",
     "output_type": "stream",
     "text": [
      "Number of training examples: 209\n",
      "Number of testing examples: 50\n",
      "Each image is of size: (64, 64, 3)\n",
      "train_x_orig shape: (209, 64, 64, 3)\n",
      "train_y shape: (1, 209)\n",
      "test_x_orig shape: (50, 64, 64, 3)\n",
      "test_y shape: (1, 50)\n"
     ]
    }
   ],
   "source": [
    "# Explore your dataset \n",
    "m_train = train_x_orig.shape[0]\n",
    "num_px = train_x_orig.shape[1]\n",
    "m_test = test_x_orig.shape[0]\n",
    "\n",
    "print (\"Number of training examples: \" + str(m_train))\n",
    "print (\"Number of testing examples: \" + str(m_test))\n",
    "print (\"Each image is of size: (\" + str(num_px) + \", \" + str(num_px) + \", 3)\")\n",
    "print (\"train_x_orig shape: \" + str(train_x_orig.shape))\n",
    "print (\"train_y shape: \" + str(train_y.shape))\n",
    "print (\"test_x_orig shape: \" + str(test_x_orig.shape))\n",
    "print (\"test_y shape: \" + str(test_y.shape))"
   ]
  },
  {
   "cell_type": "code",
   "execution_count": 32,
   "metadata": {},
   "outputs": [
    {
     "name": "stdout",
     "output_type": "stream",
     "text": [
      "train_x's shape: (12288, 209)\n",
      "test_x's shape: (12288, 50)\n"
     ]
    }
   ],
   "source": [
    "# Reshape the training and test examples \n",
    "train_x_flatten = train_x_orig.reshape(train_x_orig.shape[0], -1).T   # The \"-1\" makes reshape flatten the remaining dimensions\n",
    "test_x_flatten = test_x_orig.reshape(test_x_orig.shape[0], -1).T\n",
    "\n",
    "# Standardize data to have feature values between 0 and 1.\n",
    "train_x = train_x_flatten/255.\n",
    "test_x = test_x_flatten/255.\n",
    "\n",
    "print (\"train_x's shape: \" + str(train_x.shape))\n",
    "print (\"test_x's shape: \" + str(test_x.shape))"
   ]
  },
  {
   "cell_type": "markdown",
   "metadata": {},
   "source": [
    "# Funtions"
   ]
  },
  {
   "cell_type": "code",
   "execution_count": 60,
   "metadata": {},
   "outputs": [],
   "source": [
    "def compute_cost(AL, Y):\n",
    "  \n",
    "    \n",
    "    m = Y.shape[1]\n",
    "\n",
    "    # Compute loss from aL and y.\n",
    "    cost = (1./m) * (-np.dot(Y,np.log(AL).T) - np.dot(1-Y, np.log(1-AL).T))\n",
    "    \n",
    "    cost = np.squeeze(cost)      # To make sure your cost's shape is what we expect (e.g. this turns [[17]] into 17).\n",
    "    assert(cost.shape == ())\n",
    "    \n",
    "    return cost\n",
    "\n",
    "\n",
    "def initialize_parameters(n_x, n_h, n_y):\n",
    "\n",
    "    np.random.seed(1)\n",
    "    \n",
    "    W1 = np.random.randn(n_h, n_x)*0.01\n",
    "    b1 = np.zeros((n_h, 1))\n",
    "    W2 = np.random.randn(n_y, n_h)*0.01\n",
    "    b2 = np.zeros((n_y, 1))\n",
    "    \n",
    "    assert(W1.shape == (n_h, n_x))\n",
    "    assert(b1.shape == (n_h, 1))\n",
    "    assert(W2.shape == (n_y, n_h))\n",
    "    assert(b2.shape == (n_y, 1))\n",
    "    \n",
    "    parameters = {\"W1\": W1,\n",
    "                  \"b1\": b1,\n",
    "                  \"W2\": W2,\n",
    "                  \"b2\": b2}\n",
    "    \n",
    "    return parameters  \n",
    "\n",
    "def initialize_parameters_deep(layer_dims):\n",
    "    \n",
    "    np.random.seed(1)\n",
    "    parameters = {}\n",
    "    L = len(layer_dims)            # number of layers in the network\n",
    "\n",
    "    for l in range(1, L):\n",
    "        parameters['W' + str(l)] = np.random.randn(layer_dims[l], layer_dims[l-1]) / np.sqrt(layer_dims[l-1]) #*0.01\n",
    "        parameters['b' + str(l)] = np.zeros((layer_dims[l], 1))\n",
    "        \n",
    "        assert(parameters['W' + str(l)].shape == (layer_dims[l], layer_dims[l-1]))\n",
    "        assert(parameters['b' + str(l)].shape == (layer_dims[l], 1))\n",
    "\n",
    "        \n",
    "    return parameters"
   ]
  },
  {
   "cell_type": "markdown",
   "metadata": {},
   "source": [
    "## Two layer model"
   ]
  },
  {
   "cell_type": "code",
   "execution_count": 7,
   "metadata": {},
   "outputs": [],
   "source": [
    "## we know the weights are determin by (n,n-1)"
   ]
  },
  {
   "cell_type": "code",
   "execution_count": 8,
   "metadata": {},
   "outputs": [
    {
     "name": "stdout",
     "output_type": "stream",
     "text": [
      "layers_dims =  12288 , 7 , 1\n"
     ]
    }
   ],
   "source": [
    "n0=train_x_flatten.shape[0]\n",
    "n1= 7 # number of active node in hidden layer 1\n",
    "n_y = train_y.shape[0]\n",
    "print(\"layers_dims = \",n0,',' ,n1,',' ,n_y)\n",
    "parameters = initialize_parameters(n0, n1, n_y)"
   ]
  },
  {
   "cell_type": "code",
   "execution_count": 9,
   "metadata": {},
   "outputs": [],
   "source": [
    "# MetaParameters\n",
    "W1 = parameters[\"W1\"]\n",
    "b1 = parameters[\"b1\"]\n",
    "W2 = parameters[\"W2\"]\n",
    "b2 = parameters[\"b2\"]\n",
    "Y = train_y\n",
    "X = train_x\n",
    "m = train_x.shape[1]\n",
    "# Hyperparameters\n",
    "learning_rate = 0.0075\n",
    "epochs=4000\n",
    "iter_count=[]\n",
    "costs=[]\n",
    "for epoch in range(epochs):\n",
    "    Z1 = W1.dot(X)+b1\n",
    "    A1 = np.maximum(0,Z1)\n",
    "    Z2 = W2.dot(A1) + b2\n",
    "    A2 = 1/(1+np.exp(-Z2))\n",
    "\n",
    "   # dA2 = - (np.divide(Y, A2) - np.divide(1 - Y, 1 - A2))  #dJ/dA2\n",
    "    dZ2 = A2 - Y #dA2 * Z2 * (1-Z2)                    \n",
    "    dW2 = (1/m)*dZ2.dot(A1.T)                           \n",
    "    db2 = (1/m)*np.sum(dZ2,axis=1,keepdims=True)\n",
    "\n",
    "    dA1 = W2.T.dot(dZ2)\n",
    "    dZ1 = np.array(dA1, copy=True)\n",
    "    dZ1[Z1 <= 0] = 0\n",
    "   \n",
    "    \n",
    "    dW1 = (1/m)*dZ1.dot(X.T)                           \n",
    "    db1 = (1/m)*np.sum(dZ1,axis=1,keepdims=True) \n",
    "\n",
    "     # Gradient descent\n",
    "\n",
    "    W1 = W1 - learning_rate*dW1\n",
    "    b1 = b1 - learning_rate*db1\n",
    "    W2 = W2 - learning_rate*dW2\n",
    "    b2 = b2 - learning_rate*db2\n",
    "    if epochs % 100 == 0:\n",
    "        costs.append(compute_cost(A2,Y))\n",
    "        iter_count.append(epoch)"
   ]
  },
  {
   "cell_type": "code",
   "execution_count": 10,
   "metadata": {},
   "outputs": [
    {
     "data": {
      "image/png": "[encoded data removed]",
      "text/plain": [
       "<Figure size 360x288 with 1 Axes>"
      ]
     },
     "metadata": {
      "needs_background": "light"
     },
     "output_type": "display_data"
    }
   ],
   "source": [
    "plt.plot(iter_count,costs)\n",
    "plt.title(\"Gradient descent\")\n",
    "plt.xlabel(\"Iterations\")\n",
    "plt.ylabel(\"Cost funtcion J(W)\")\n",
    "plt.show()"
   ]
  },
  {
   "cell_type": "code",
   "execution_count": 11,
   "metadata": {},
   "outputs": [
    {
     "name": "stdout",
     "output_type": "stream",
     "text": [
      "Accuracy on Train data:  100.0 %\n",
      "Accuracy on Test Data 70.0 %\n"
     ]
    }
   ],
   "source": [
    "#### Prediction on Train Data\n",
    "predictions = (A2 > 0.5).astype(int)\n",
    "Accuracy=(predictions==Y).sum()/m*100\n",
    "print(\"Accuracy on Train data: \",Accuracy,\"%\")\n",
    "\n",
    "#### Prediction on Test Data\n",
    "Y = test_y\n",
    "X = test_x\n",
    "m = test_x.shape[1]\n",
    "Z1 = W1.dot(X)+b1\n",
    "A1 = np.maximum(0,Z1)\n",
    "Z2 = W2.dot(A1) + b2\n",
    "A2 = 1/(1+np.exp(-Z2))\n",
    "predictions = (A2 > 0.5).astype(int)\n",
    "Accuracy=(predictions==Y).sum()/m*100\n",
    "print(\"Accuracy on Test Data\",Accuracy,\"%\")"
   ]
  },
  {
   "cell_type": "markdown",
   "metadata": {},
   "source": [
    "# Deeper networks"
   ]
  },
  {
   "cell_type": "markdown",
   "metadata": {},
   "source": [
    "# 3 Layer Neuron"
   ]
  },
  {
   "cell_type": "code",
   "execution_count": 272,
   "metadata": {},
   "outputs": [
    {
     "name": "stdout",
     "output_type": "stream",
     "text": [
      "                                  DIMENSIONS:\n",
      "Neural Architecture: =  12288 --> 20 --> 7 --> 5 --> 1\n"
     ]
    }
   ],
   "source": [
    "n0=train_x_flatten.shape[0]\n",
    "n1=  20 # number of active node in hidden layer 1\n",
    "n2 = 7\n",
    "n3 = 5\n",
    "n_y = train_y.shape[0]\n",
    "print(\"                                  DIMENSIONS:\")\n",
    "print(\"Neural Architecture: = \",n0,'-->' ,n1,'-->' ,n2,'-->',n3,'-->',n_y)\n",
    "\n",
    "  ###  DATA SET ###\n",
    "Y = train_y\n",
    "X = train_x\n",
    "m = train_x.shape[1]\n",
    "iter_count=[]\n",
    "costs=[]\n",
    "\n",
    "   ### METAPARAMETERS ###\n",
    "W1 = np.random.randn(n1, n0)*0.01\n",
    "b1 = np.zeros((n1, 1))\n",
    "W2 = np.random.randn(n2, n1)*0.01\n",
    "b2 = np.zeros((n2, 1))\n",
    "W3 = np.random.randn(n3, n2)*0.01\n",
    "b3 = np.zeros((n3, 1))\n",
    "W4 = np.random.randn(n_y, n3)*0.01\n",
    "b4 = np.zeros((n_y, 1))"
   ]
  },
  {
   "cell_type": "code",
   "execution_count": 273,
   "metadata": {},
   "outputs": [],
   "source": [
    "layers_dims = [12288, 20, 7, 5, 1]\n",
    "\n",
    "np.random.seed(1)\n",
    "parameters = initialize_parameters_deep(layers_dims)\n",
    "learning_rate =  0.009\n",
    "# MetaParameters\n",
    "W1 = parameters[\"W1\"]\n",
    "b1 = parameters[\"b1\"]\n",
    "W2 = parameters[\"W2\"]\n",
    "b2 = parameters[\"b2\"]\n",
    "W3 = parameters[\"W3\"]\n",
    "b3 = parameters[\"b3\"]\n",
    "W4 = parameters[\"W4\"]\n",
    "b4 = parameters[\"b4\"]"
   ]
  },
  {
   "cell_type": "code",
   "execution_count": 279,
   "metadata": {},
   "outputs": [],
   "source": [
    "for epoch in range(0, 2500):\n",
    "    ### FeedForward\n",
    "    Z1 = W1.dot(X)+b1\n",
    "    A1 = np.maximum(0,Z1)\n",
    "\n",
    "    Z2 = W2.dot(A1)+b2\n",
    "    A2 = np.maximum(0,Z2)\n",
    "\n",
    "    Z3 = W3.dot(A2)+b3\n",
    "    A3 = np.maximum(0,Z3)\n",
    "\n",
    "    Z4 = W4.dot(A3)+b4\n",
    "    A4 = 1/(1+np.exp(-Z4))\n",
    "\n",
    "    if epoch % 100 == 0:\n",
    "        costs.append(compute_cost(A4,Y))\n",
    "        iter_count.append(epoch)\n",
    "\n",
    "    ### Back prop\n",
    "    dZ4 = A4-Y\n",
    "    dW4 = (1/m)*dZ4.dot(A3.T) \n",
    "    db4 = (1/m)*np.sum(dZ4,axis=1,keepdims=True)\n",
    "\n",
    "    dA3 = W4.T.dot(dZ4)\n",
    "    dZ3 = np.array(dA3, copy=True)\n",
    "    dZ3[Z3 <= 0] = 0\n",
    "    dW3 = (1/m)*dZ3.dot(A2.T) \n",
    "    db3 = (1/m)*np.sum(dZ3,axis=1,keepdims=True)\n",
    "\n",
    "    dA2 = W3.T.dot(dZ3)\n",
    "    dZ2 = np.array(dA2, copy=True)\n",
    "    dZ2[Z2 <= 0] = 0\n",
    "    dW2 = (1/m)*dZ2.dot(A1.T) \n",
    "    db2 = (1/m)*np.sum(dZ2,axis=1,keepdims=True)\n",
    "\n",
    "\n",
    "    dA1 = W2.T.dot(dZ2)\n",
    "    dZ1 = np.array(dA1, copy=True)\n",
    "    dZ1[Z1 <= 0] = 0\n",
    "    dW1 = (1/m)*dZ1.dot(X.T) \n",
    "    db1 = (1/m)*np.sum(dZ1,axis=1,keepdims=True)\n",
    "\n",
    "    W1=W1-learning_rate*dW1\n",
    "    W2=W2-learning_rate*dW2\n",
    "    W3=W3-learning_rate*dW3\n",
    "    W4=W4-learning_rate*dW4\n",
    "    b1=b1-learning_rate*b1\n",
    "    b2=b2-learning_rate*b2\n",
    "    b3=b3-learning_rate*b3\n",
    "    b4=b4-learning_rate*b4\n"
   ]
  },
  {
   "cell_type": "code",
   "execution_count": 280,
   "metadata": {},
   "outputs": [
    {
     "data": {
      "image/png": "[encoded data removed]",
      "text/plain": [
       "<Figure size 360x288 with 1 Axes>"
      ]
     },
     "metadata": {
      "needs_background": "light"
     },
     "output_type": "display_data"
    }
   ],
   "source": [
    "plt.plot(costs,\"-\")\n",
    "plt.title(\"Gradient descent\")\n",
    "plt.xlabel(\"Iterations\")\n",
    "plt.ylabel(\"Cost funtcion J(W)\")\n",
    "plt.show()"
   ]
  },
  {
   "cell_type": "code",
   "execution_count": 281,
   "metadata": {},
   "outputs": [
    {
     "data": {
      "text/plain": [
       "[array(0.77174933),\n",
       " array(0.6898239),\n",
       " array(0.68147256),\n",
       " array(0.67932001),\n",
       " array(0.65998081),\n",
       " array(0.6231723),\n",
       " array(0.60131779),\n",
       " array(0.62049744),\n",
       " array(0.57148508),\n",
       " array(0.55857994),\n",
       " array(0.57112263),\n",
       " array(0.51297574),\n",
       " array(0.50921145),\n",
       " array(0.49320294),\n",
       " array(0.49126521),\n",
       " array(0.48013665),\n",
       " array(0.47396188),\n",
       " array(0.47191745),\n",
       " array(0.46901472),\n",
       " array(0.46689487),\n",
       " array(0.46878075),\n",
       " array(0.4648279),\n",
       " array(0.46380974),\n",
       " array(0.46314864),\n",
       " array(0.46255908),\n",
       " array(0.66675242),\n",
       " array(0.23865342),\n",
       " array(0.23653914),\n",
       " array(0.23776514),\n",
       " array(0.23617223),\n",
       " array(0.2359845),\n",
       " array(0.23597329),\n",
       " array(0.23613396),\n",
       " array(0.23589963),\n",
       " array(0.23583949),\n",
       " array(0.23584529),\n",
       " array(0.23605438),\n",
       " array(0.23581514),\n",
       " array(0.23595366),\n",
       " array(0.23587876),\n",
       " array(0.23584351),\n",
       " array(0.23584185),\n",
       " array(0.23580455),\n",
       " array(0.23578842),\n",
       " array(0.23575509),\n",
       " array(0.23575992),\n",
       " array(0.23576768),\n",
       " array(0.23576725),\n",
       " array(0.23580085),\n",
       " array(0.23577829)]"
      ]
     },
     "execution_count": 281,
     "metadata": {},
     "output_type": "execute_result"
    }
   ],
   "source": [
    "costs"
   ]
  },
  {
   "cell_type": "code",
   "execution_count": 282,
   "metadata": {},
   "outputs": [
    {
     "name": "stdout",
     "output_type": "stream",
     "text": [
      "Accuracy on Train data:  100.0 %\n",
      "Accuracy on Test Data 98.0 %\n"
     ]
    }
   ],
   "source": [
    "#### Prediction on Train Data\n",
    "predictions = (A4 > 0.5).astype(int)\n",
    "Accuracy=(predictions==Y).sum()/m*100\n",
    "print(\"Accuracy on Train data: \",Accuracy,\"%\")\n",
    "\n",
    "#### Prediction on Test Data\n",
    "Y = test_y\n",
    "X = test_x\n",
    "m = test_x.shape[1]\n",
    "### FeedForward\n",
    "Z1 = W1.dot(X)+b1\n",
    "A1 = np.maximum(0,Z1)\n",
    "\n",
    "Z2 = W2.dot(A1)+b2\n",
    "A2 = np.maximum(0,Z2)\n",
    "\n",
    "Z3 = W3.dot(A2)+b3\n",
    "A3 = np.maximum(0,Z3)\n",
    "\n",
    "Z4 = W4.dot(A3)+b4\n",
    "A4 = 1/(1+np.exp(-Z4))\n",
    "\n",
    "predictions = (A4 > 0.5).astype(int)\n",
    "Accuracy=(predictions==Y).sum()/m*100\n",
    "print(\"Accuracy on Test Data\",Accuracy,\"%\")"
   ]
  },
  {
   "cell_type": "code",
   "execution_count": 339,
   "metadata": {},
   "outputs": [
    {
     "name": "stdout",
     "output_type": "stream",
     "text": [
      "y = 1. It's a cat picture.\n",
      "Prediction: 1\n"
     ]
    },
    {
     "data": {
      "image/png": "[encoded data removed]",
      "text/plain": [
       "<Figure size 360x288 with 1 Axes>"
      ]
     },
     "metadata": {
      "needs_background": "light"
     },
     "output_type": "display_data"
    }
   ],
   "source": [
    "# Example of a picture\n",
    "index = 31\n",
    "plt.imshow(test_x_orig[index])\n",
    "print (\"y = \" + str(test_y[0,index]) + \". It's a \" + classes[test_y[0,index]].decode(\"utf-8\") +  \" picture.\")\n",
    "print(\"Prediction:\", predictions[0][index])"
   ]
  },
  {
   "cell_type": "code",
   "execution_count": 314,
   "metadata": {},
   "outputs": [
    {
     "data": {
      "text/plain": [
       "array([[1, 1, 1, 1, 1, 0, 1, 1, 1, 1, 1, 1, 1, 0, 0, 1, 0, 1, 1, 1, 1, 0,\n",
       "        0, 1, 1, 1, 1, 0, 1, 0, 1, 1, 1, 1, 0, 0, 1, 1, 0, 0, 1, 1, 1, 0,\n",
       "        0, 0, 1, 1, 1, 0]])"
      ]
     },
     "execution_count": 314,
     "metadata": {},
     "output_type": "execute_result"
    }
   ],
   "source": [
    "predictions"
   ]
  },
  {
   "cell_type": "code",
   "execution_count": 316,
   "metadata": {},
   "outputs": [
    {
     "data": {
      "text/plain": [
       "array([[1, 1, 1, 1, 1, 0, 1, 1, 1, 1, 1, 1, 1, 0, 0, 1, 0, 1, 1, 1, 1, 0,\n",
       "        0, 1, 1, 1, 1, 0, 1, 0, 1, 1, 1, 1, 0, 0, 0, 1, 0, 0, 1, 1, 1, 0,\n",
       "        0, 0, 1, 1, 1, 0]], dtype=int64)"
      ]
     },
     "execution_count": 316,
     "metadata": {},
     "output_type": "execute_result"
    }
   ],
   "source": [
    "test_y"
   ]
  },
  {
   "cell_type": "code",
   "execution_count": null,
   "metadata": {},
   "outputs": [],
   "source": []
  }
 ],
 "metadata": {
  "kernelspec": {
   "display_name": "machine_learning_env",
   "language": "python",
   "name": "machine_learning_env"
  },
  "language_info": {
   "codemirror_mode": {
    "name": "ipython",
    "version": 3
   },
   "file_extension": ".py",
   "mimetype": "text/x-python",
   "name": "python",
   "nbconvert_exporter": "python",
   "pygments_lexer": "ipython3",
   "version": "3.7.7"
  }
 },
 "nbformat": 4,
 "nbformat_minor": 4
}
